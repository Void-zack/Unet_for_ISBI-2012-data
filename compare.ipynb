{
 "cells": [
  {
   "cell_type": "code",
   "execution_count": 1,
   "metadata": {},
   "outputs": [],
   "source": [
    "ID=5"
   ]
  },
  {
   "cell_type": "code",
   "execution_count": 2,
   "metadata": {},
   "outputs": [
    {
     "name": "stderr",
     "output_type": "stream",
     "text": [
      "Using TensorFlow backend.\n"
     ]
    }
   ],
   "source": [
    "import os\n",
    "import numpy as np\n",
    "import configparser\n",
    "import matplotlib\n",
    "matplotlib.use('Agg')\n",
    "import matplotlib.pyplot as plt\n",
    "os.environ[\"CUDA_VISIBLE_DEVICES\"] = \"-1\"\n",
    "from skimage.io import imread\n",
    "from keras.models import load_model\n",
    "from utils.processing import prep_raw\n",
    "from utils.processing import test_mask\n",
    "from utils.visualization import bina\n",
    "from utils.visualization import Compare_results"
   ]
  },
  {
   "cell_type": "code",
   "execution_count": 3,
   "metadata": {},
   "outputs": [],
   "source": [
    "########################################\n",
    "# Set up compare configuration\n",
    "########################################\n",
    "config = configparser.RawConfigParser()\n",
    "config.read('config.txt')\n",
    "test_path = config.get('data path','test_path')\n",
    "dir_path = config.get('data path','result_dir')\n",
    "rfile = config.get('train settings','raw_file')\n",
    "mfile = config.get('train settings','mask_file')\n",
    "########################################\n",
    "# Predicting\n",
    "########################################\n",
    "raw = prep_raw(imread(test_path+rfile)[ID][np.newaxis,:,:])\n",
    "net = load_model(dir_path+'model.hdf5')\n",
    "pred_ = bina(np.squeeze(net.predict(raw)))\n",
    "label_ = test_mask(imread(test_path+mfile))[ID]\n",
    "raw_ = np.squeeze(raw)\n",
    "########################################\n",
    "# Comparing\n",
    "########################################\n",
    "Compare_results(raw_,label_,pred_,dir_path,ID)"
   ]
  }
 ],
 "metadata": {
  "kernelspec": {
   "display_name": "Python 3",
   "language": "python",
   "name": "python3"
  },
  "language_info": {
   "codemirror_mode": {
    "name": "ipython",
    "version": 3
   },
   "file_extension": ".py",
   "mimetype": "text/x-python",
   "name": "python",
   "nbconvert_exporter": "python",
   "pygments_lexer": "ipython3",
   "version": "3.5.2"
  }
 },
 "nbformat": 4,
 "nbformat_minor": 4
}
